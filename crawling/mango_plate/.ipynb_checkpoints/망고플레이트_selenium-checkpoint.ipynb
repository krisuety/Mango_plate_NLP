{
 "cells": [
  {
   "cell_type": "code",
   "execution_count": 61,
   "metadata": {},
   "outputs": [],
   "source": [
    "from selenium import webdriver\n",
    "from selenium.webdriver.chrome.options import Options\n",
    "import time\n",
    "from selenium.common.exceptions import *\n",
    "from selenium.webdriver.common.keys import Keys\n",
    "from selenium import webdriver\n",
    "from bs4 import BeautifulSoup"
   ]
  },
  {
   "cell_type": "code",
   "execution_count": 62,
   "metadata": {},
   "outputs": [],
   "source": [
    "options = webdriver.ChromeOptions()\n",
    "options.add_argument('headless')\n",
    "options.add_argument('window-size=1920x1080')\n",
    "options.add_argument(\"disable-gpu\")\n",
    "\n",
    "driver = webdriver.Chrome(chrome_options=options)\n",
    "\n",
    "driver.implicitly_wait(3)"
   ]
  },
  {
   "cell_type": "code",
   "execution_count": null,
   "metadata": {},
   "outputs": [],
   "source": [
    "https://www.mangoplate.com/search/"
   ]
  },
  {
   "cell_type": "code",
   "execution_count": 63,
   "metadata": {},
   "outputs": [],
   "source": [
    "driver.get('https://www.mangoplate.com/search/%EC%A4%91%EB%9E%91%EA%B5%AC?keyword=%EC%A4%91%EB%9E%91%EA%B5%AC&page=2')"
   ]
  },
  {
   "cell_type": "code",
   "execution_count": 64,
   "metadata": {},
   "outputs": [],
   "source": [
    "class Parsing:\n",
    "    def getHotLink(self):\n",
    "        html_doc = driver.page_source\n",
    "        soup = BeautifulSoup(html_doc, 'html.parser')\n",
    "        hotlink = []\n",
    "        for link in soup.find_all('a'):\n",
    "            try:\n",
    "                if link.get('href').find('restaurants') != -1:\n",
    "                    if link.get('href').find('restaurant_key') == -1:\n",
    "                        hotlink.append(link.get('href'))\n",
    "            except AttributeError:\n",
    "                continue\n",
    "        return list(set(hotlink))\n",
    "\n",
    "    def parsingHot(self, url):\n",
    "        connect(url)\n",
    "        html_doc = driver.page_source\n",
    "        soup = BeautifulSoup(html_doc, 'html.parser')\n",
    "\n",
    "        try:\n",
    "            title = soup.find(\"h1\", {\"class\": \"restaurant_name\"})\n",
    "            rating = soup.find(\"strong\", {\"class\": \"rate-point\"})\n",
    "            info = dict()\n",
    "            info['이름'] = title.get_text()\n",
    "            if rating == None:\n",
    "                info['평점'] = None\n",
    "            else:\n",
    "                info['평점'] = rating.get_text().replace('\\n', ' ')\n",
    "            table = soup.find(\"tbody\")\n",
    "            for thtd in table.find_all(\"tr\"):\n",
    "                if thtd.th.get_text() != \"메뉴\":\n",
    "                    temp = thtd.th.get_text().replace(' ', '')\n",
    "                    info[temp.replace('\\n', '')] = thtd.td.get_text().replace(\n",
    "                        '\\n', '')\n",
    "                else:\n",
    "                    info[thtd.th.get_text('\\n', '')] = thtd.td.get_text('\\n', '')\n",
    "\n",
    "            return info\n",
    "        except AttributeError:\n",
    "            pass"
   ]
  },
  {
   "cell_type": "code",
   "execution_count": 65,
   "metadata": {},
   "outputs": [],
   "source": [
    "p = Parsing()"
   ]
  },
  {
   "cell_type": "code",
   "execution_count": 66,
   "metadata": {},
   "outputs": [],
   "source": [
    "collect = p.getHotLink()"
   ]
  },
  {
   "cell_type": "code",
   "execution_count": 67,
   "metadata": {},
   "outputs": [
    {
     "data": {
      "text/plain": [
       "['/restaurants/yXQE9Ljqzv',\n",
       " '/restaurants/I5qlZUN5stHZ',\n",
       " '/restaurants/6-ymDHyqX3',\n",
       " '/restaurants/4QUb_3qdJCgj',\n",
       " '/restaurants/Dz3o130BYTaT',\n",
       " '/restaurants/lySMkcc1DaKZ',\n",
       " '/restaurants/j4BS5WwgCmyA',\n",
       " '/restaurants/mB9jUjR6OvKl',\n",
       " '/restaurants/x-AY6eaDjhVh',\n",
       " '/restaurants/R2Nkz-4bKHjB',\n",
       " '/restaurants/LCvrCDR-CteL',\n",
       " '/restaurants/OxYphSGbpxrT',\n",
       " '/restaurants/Oganh0RhGfgz',\n",
       " '/restaurants/GV6wjRAxxr',\n",
       " '/restaurants/vfOLhsJgn4pi',\n",
       " '/restaurants/LJebORb1hzYJ',\n",
       " '/restaurants/aW7c-jUFeu',\n",
       " '/restaurants/LpfZCN4K812l',\n",
       " '/restaurants/tRmOEWAalFn-',\n",
       " '/restaurants/YAWp6hnIZQdC']"
      ]
     },
     "execution_count": 67,
     "metadata": {},
     "output_type": "execute_result"
    }
   ],
   "source": [
    "collect"
   ]
  },
  {
   "cell_type": "code",
   "execution_count": 68,
   "metadata": {},
   "outputs": [],
   "source": [
    "i = collect[-4]"
   ]
  },
  {
   "cell_type": "code",
   "execution_count": 69,
   "metadata": {},
   "outputs": [],
   "source": [
    "def connect(url):\n",
    "    driver.get('https://www.mangoplate.com/' + url)"
   ]
  },
  {
   "cell_type": "code",
   "execution_count": 70,
   "metadata": {},
   "outputs": [],
   "source": [
    "info = p.parsingHot(i)"
   ]
  },
  {
   "cell_type": "code",
   "execution_count": 71,
   "metadata": {},
   "outputs": [
    {
     "data": {
      "text/plain": [
       "{'이름': '홍이네분식',\n",
       " '평점': None,\n",
       " '주소': '서울시 중랑구 망우동 342-47',\n",
       " '전화번호': '02-439-5831',\n",
       " '음식종류': '기타 한식',\n",
       " '가격대': '만원 미만',\n",
       " '주차': '주차공간없음 ',\n",
       " '영업시간': '09:30 - 21:00',\n",
       " '마지막주문': '20:30',\n",
       " '메뉴': ''}"
      ]
     },
     "execution_count": 71,
     "metadata": {},
     "output_type": "execute_result"
    }
   ],
   "source": [
    "info"
   ]
  },
  {
   "cell_type": "code",
   "execution_count": 72,
   "metadata": {},
   "outputs": [],
   "source": [
    "driver.get('https://www.mangoplate.com/restaurants/-oGLxLyfymgp')"
   ]
  },
  {
   "cell_type": "code",
   "execution_count": 73,
   "metadata": {},
   "outputs": [],
   "source": [
    "while True:\n",
    "    try:\n",
    "        driver.find_element_by_css_selector('div.RestaurantReviewList__MoreReviewButton').click()\n",
    "        time.sleep(0.2)\n",
    "    except ElementNotVisibleException:\n",
    "        break\n",
    "    except WebDriverException:\n",
    "        break"
   ]
  },
  {
   "cell_type": "code",
   "execution_count": 74,
   "metadata": {},
   "outputs": [],
   "source": [
    "b = [p.text.replace('\\n', ' ').strip(\n",
    "                        ) for p in driver.find_elements_by_css_selector(\"p.RestaurantReviewItem__ReviewText\")]"
   ]
  },
  {
   "cell_type": "code",
   "execution_count": 75,
   "metadata": {},
   "outputs": [
    {
     "data": {
      "text/plain": [
       "['스테이크도 파스타도 식전빵도 너무너무 맛있었어요 ♡ 양도 많고 가성비 갑이네요! 부모님도 모시고 가야겠어요^^',\n",
       " '가성비 짱이에요! 맛도 깔끔하고 와인도 맛있었어요! 위치가 특이하지만 그래서 더 매력적이에요!',\n",
       " '순간 갑자기 기분이 좋아졌어요 제 생일인데 말이죠 ㅎ 울 아들은 울다가 활짝 웃네요',\n",
       " '특별한 날 좋은 사람과 나에게 행복한 시간을 선물해준 곳  [메인매뉴] 트리빠 & 포르게타  트리빠는 놀랍고 놀라웠다. 곱창은 볶거나 굽거나 두개만 알던 나에게 새로운 충격을 주었다. 셰프의 음식을 먹는 즐거움은 이런게 아닐까? 같은 재료로 새로운 즐거움을 선물받았다.  포르게타는 정성이 담긴 고기 한덩이다. 겉은 아주 살짝 그을릴 정도의 굽기여서 씹는데 편함을 주었고 속은 부드러워서 기분 좋은 식감을 준다.  별점 ★★★★  [사이드] 식전빵  적당한 바삭함과 함께 곁들일 수 있는 (?)를 준다. 검정색이었던 걸로 기억하는데 매우 맛있었다. 리필해서 한 번 더 먹었다.  별점 ★★★★  [분위기]  조용하다. 음악도 잔잔하다. 음식에 음악이 미치는 영향이 있는 것 같다. 먹는 즐거움을 더해주고 대화를 더 부드럽게 해주는 것 같다. 맛있는 음식과 좋은 음악은 사람의 더 깊은 속마음을 얘기할 수 있게 해준다. 이 모든 과정을 오스트리아주연에서 할 수 있었다.  별점 ★★★★☆  [재방문의사]  분명히 있다. 이 공간이 필요할 때 방문하겠다.  별점 ★★★★',\n",
       " '가게가 아담하고 조용한 분위기입니다. 두명이서 뜨리빠, 카타이프로 감싼 생선튀김, 포르게타, (한가지는 뭐였는지 기억이 안나네요ㅠㅠ) 먹었습니다. 저에게는 꽤나 새로운 스타일의 음식이었어요! 재방문의사 있습니다. 시그니쳐 메뉴인 생선튀김이 제일 좋았어요. 다만 서빙을 해주시면서 음식만 덜렁 주고 가시는건 좀 아쉬웠어요. 포르게타의 경우 곁들여져있는 소스나 먹는 방법 정도는 알려주셨으면 더 좋았을 것 같습니다.',\n",
       " '회기에 있는 트라토리아 오늘의 김동기 셰프가 여자친구인 안주연셰프의 이름을 걸고 함께 오픈한 캐주얼한 식당입니다. 서양반주식당이을 표방하고 있는데 말그대로 와인이나 맥주와 곁들여서 먹기 좋은 요리들이 있는 곳입니다. 가게 위치는 근처 주민이면 익숙하면서도 친숙한 상봉역 뒤편 먹자골목에서도 더 깊숙한 골목에 위치하고 있는데 처음 이 지역에 오시는 분들은 생소할 법도 한 위치에 있어서 재미있습니다. 가게 외관은 하얀색과 푸른색을 띄고 있어서 깔끔하게 달이차오르는 형상을 하고 있는 예쁜 간판이 있어서 한눈에 알아보기 쉽습니다. 인상깊었던 건 메뉴판이 요리 사진과 재료들을 설명해주는 주석이 붙어있어서 직관적으로 어떤 요리인지 알 수있게 해주는 점이 저한테는 좋게 다가왔습니다.  식전빵은 그리시니라 하는 연필모양같은 막대과자모양의 이탈리아식 빵과 타페나데라고 하는 올리브 베이스로 만든 페이스트인데 담백하면서도 은근히 중독성이 있어서 맛있게 먹었습니다.  오스트리아 주연은 흔치 않은 생면 파스타를한다고 하셔서 파스타만 두개를 시켜봤습니다. 뜨리파는 소의 부속물을 넣은 토마토소스 스튜인데 여기다 파스타면을 5000원에 추가 할 수 있습니다. 아무래도 재료가 약간 취향 탈 수 있는 재료기도 해서 같이간 동행분 입맛에는 맞지 않았지만 저는 맛있게 먹었습니다. 맵지않은 곱창전골같은 느낌이었습니다.  비스큐소스 오일 파스타는 갑각류로 만든 비스큐소스에 새우가 올라가있는 파스타인데 호불호 없이 모든 사람이 좋아할 만한 맛이었습니다. 그리고 생면파스타는 처음 먹어봤는데 저는 개인적으로 일본 라멘을 먹을때의 면발느낌이 느껴지기도 하고 처음 맛보는 식감이라 재밌었고 나쁘지 않았습니다.  이외에도 리조또 종류나 오리다리 콩피, 포르케타 같인 육류도 있으니 다음번에 방문한다면 다른 요리들을 시켜먹을 것 같습니다. 요리들의 양이 많은 건 아니지만 가격대가 합리적이고 캐주얼하고 아늑한 분위기에 접근성 좋은 와인종류나 제가 좋아하는 맥주들도 많아서 자주 방문하게 될 것 같습니다. 무엇보다 집 근처인 상봉에 하나 둘씩 이런 식당들이 생기기 시작하는 것 같아서 기분이 좋았던 것 같습니다.',\n",
       " '회기에 있던 \"트라토리아오늘\"의 김동기 셰프와 그의 여자친구?라는 주연 셰프의 새로 오픈한 곳으로~ 서양반주식당이라 부르는 \"오스테리아주연\" (그럼 회기에 있는 트라토리아오늘은 누가 관리하시는건가요??) 대로변이 아닌 주택가 골목에 자릴 잡고 있어서 위치가 좀 엉뚱하긴 하지만~ 인근에 먹자골목/ 호텔, 모텔들이 들어선 곳이라 주류와 어느정도? 어울리는 분위기가 형성되는 곳이다. (별도의 주차장은 없음) 트라토리아 오늘보다는 살짝 넓은듯한 느낌의 공간이였고~ 맥주나 와인을 하기에 메뉴의 구성이 괜찮아 보였다. 스타터는 빼고 메인 위주로 주문해보기로 결정을하였다.  식전빵과 함께 나온 올리브 페이스트가 맛이 좋아서 약간의 기대감이 상승하였다.  \"비스큐소스 오일 파스타\" (1.5) 직접만든 생면 파스타를 사용하였으며 비스큐소스의 특징인 크랩의 맛과 향이 풍부하고 부드러워서 좋았다. 하지만 문제는 생면 파스타가 뭉쳐져서... 잘 풀어지지 않았고~ 뭉친 면을 2~3번 먹게 되니 아쉬움이 남는다.  \"포르케타\" (2.0) 양배추를 절인 독일식 김치인 사워크라우트와 블루베리 소스 위에 수비드 조리방식의 돼지고기가 올려져있고~ 별도로 콘&맥 그라탕이 함께 나온다. 고기의 겉면은 적당히 크리스피하지만~ 속은 수분기가 약간 느껴지게 부들부들해서 부드러운 식감이 좋았다. 문제는 약간의 누린내가 아쉬움을 준다. 콘&맥은 별다른 특징이 없으니 생략^^;  \"오리다리 콩피\"(1.8) 연기가 모락모락나는 오리다리는 훈연향이 진하다. 좋은느낌의 훈연의 후각과 미각의 자극이면 좋을텐데...개인적으로는 약간 탁한 느낌이 들어서 좀 은은했으면 좋겠다. 오리의 껍질은 크리스피하지만 속살은 부드러우면서도 담백하다. 그러나 이날따라 내 혀가 문제인지 재료가 문제인지는 모르겠지만 이것 역시도 약간의 누린내가 느껴져서 살짝 아쉽다.  \"올리브 콩피\" (0.6) 별도로 주문한 올리브가 신의한수였다. 약간씩 부족한 느낌의 메뉴들을 올리브가 살려줘서 다 먹을 수 있었던거 같다. 느끼함이나 입을 정리하는 기분으로 올리브를 계속 집어 먹은듯^^;; 블랙올리브가 대부분이였고 몇개의 씨있는 그린올리브가 믹스되어서 각각의 다른 식감을 느끼기에 좋았다.  \"청포도에이드\" (0.35?) 우선 달지않아서 좋았고~ 맑은 탄산수를 사용하고 생과일을 적당히 다져서 넣은듯하다. 무난하게 깔끔해서 좋음.  전체적 주문한 메뉴들의 가격대는 좋은편이다. 음식의 스타일이나 뭔가 요리를 연구하며 개발하려는 노력도 보기 좋지만 약간씩의 아쉬움은 남았다. 그래도 이 동네에서 이런 수준의 음식을 먹을 수 있다는것도 좋았고, 다양한 주류도 준비가 되어 있어서 마음에 든다. 기회가 되면 다른메뉴를 다시 도전해보고 싶다.',\n",
       " '⭐️⭐️⭐️']"
      ]
     },
     "execution_count": 75,
     "metadata": {},
     "output_type": "execute_result"
    }
   ],
   "source": [
    "b"
   ]
  },
  {
   "cell_type": "code",
   "execution_count": 60,
   "metadata": {},
   "outputs": [],
   "source": [
    "driver.quit()"
   ]
  },
  {
   "cell_type": "code",
   "execution_count": 58,
   "metadata": {},
   "outputs": [
    {
     "data": {
      "text/plain": [
       "['영란거리 출신들중에 이 가게 단골들 많지않죠.... 일단 불친절도 불친절이거니와 운영인들 다수가 위생관념이없었습니다. 떡볶이를 그릇에 담는데 엄지손가락이 그릇에 푹 담겨져있는데도 버리거나 손을 씻거나 장갑을끼거나 하지 않으셨습니다. 컵떡볶이의 경우에도, 담을대 빨리하시려는것인지 국물이 종이 거진전체에 줄줄 흐르도록 담아줍니다. 교체를 수없이 요청해도 절대 교체해주지않고요.  문제점은 이렇네요. 1. 위생 최악 2. 친절도 최악 3. 운영자의 문제의식 제로 4. 과거의 일화. 아는사람만 아는 문제지만 현재까지도 개선되고있지않는것 같습니다. 이런거 전혀 신경안쓰고 맛과 가격만 본다고한다면 그럭저럭 평타는칩니다.',\n",
       " '학교끝나고 친구들과 몰려가서 먹는 맛 추억은 추억으로 남겨두자...',\n",
       " '와 이게 망고플레이트에 있다니...여기 진짜 내 2n년 떡볶이 인생중 제일맛있습니다 홍이네때문에 내가 이 동네를 못떠나요 ㄹㅇ ㅠㅠㅠㅠㅠㅠㅠㅠ 아마 둘째주 화욜이 휴무!! 후추맛이 강한 단짠 떡볶이에영 ㅎㅎㅎ 둘이가면 골고루 먹고 올떡으로 같이 하나 추가해서 먹으면 개꿀 하..주말에 먹으러가야겠다 상기시켜줘서 ㄱㅅ',\n",
       " \"기대를 갖고 일부러 찾아감. 진입로가 일방통행로, 일단 주차는 다행히 분식집에서 한 100m 떨어진 곳에 함. 떡볶이 1, 순대 1을 주문. 오뎅국물을 안줘서 물으니 종업원이 오뎅을 따로 주문 해야만 준다고 답변하는데 주인 분이 그 말을 끊으며 종이컵에 한 잔 갖다 드리라고 호의를 베푸심. -.- 맛. 떡볶이는 그냥 넘 달기만 함. 단 오랫만에 밀떡을 씹는 느낌은 반가와뜸. 순대는 그냥 순대맛.  결론 : 내가 구태여 찾아가 먹을만한 '맛집'아님. 게다가 주인 아들인듯한 사람이 주인과 간간히 말을 나누며 퍼질러 앉아 등만 보이는 태도도 됴티아늠.\",\n",
       " '길가에 오픈해 놓고 판매를 해서 그렇게 위생적으로 보이진 않습니다. 미세먼지도 많은 때 인데 말입니다. 그럼에도 불구하고 맛은 상당한 내공이 느껴지는 맛 이였습니다. 맛집이라고 해도 손색이 없는 전에는 먹어본적이 없는 상당이 신선한 떡볶이 맛 이였습니다.후추맛이 많이 느껴졌는데 적당이 매우면서도 달콤한 국 물 떡볶이 였습니다. 약간 중독성이 있으면서도 조금먹으면 좀 질리는듯 하면서도 지나면 다시 생각 나는 맛 이네요. 가끔 생각나면 찾아갈 것 같습니다. 근처에 경상도 떡볶이도 유명하다고 하던데 그집은 일찍닫고 일요일은 쉬는집이라 구매하기 너무 힘든것 같네요. 꿩대신 닭도 맛 나네요.',\n",
       " '몇 년 전만해도 맛있었는데 맛이 변했어요ㅠㅠ',\n",
       " '가격 올랐어요',\n",
       " '저렴하게 먹을만해요 맛 먹을만 합니다 망우리 근처에선 다섯손가락안에 들어간다고 봄 개인 취향이지만 혜원여고 크리스탈 고짜떡복이가 갑',\n",
       " '정말 옛날 국물떡볶이 맛이에요. 사람이 항상 많은데 주변에 학교와 교회가 있어서 그런 것 같구요. 한번 쯤 옛날 맛 떡볶이가 먹고싶다, 저렴하게 끼니를 해결하고 싶다고 한다면 나름 괜찮은 집입니다.',\n",
       " '학창시절 단골집',\n",
       " '고등학생 때 부터 늘 궁금했다 왜이렇게 이곳이 붐빌까. 그렇게 빼어난 맛도 아니고 가게가 그다지 청결하지는 않다.',\n",
       " '이 동네 살 때는 거의 매일 사먹었구요 지금은 다른 곳으로 이사왔는데도 가끔씩 생각이 나서 사먹으러 오네요 아주머니 얼굴 오랜만에 들리니 반가우시다고 음료수 서비스도 해주시고 친절하세요 떡볶이랑 만두가 가장 맛있어요 만두는 떡볶이에 안섞고 그냥 맥주안주로 먹어도 좋아요!!',\n",
       " '매일먹으면서 학창시절보내고 이젠가끔씩찾아가서먹는 홍이네떡볶이~ 추천추천',\n",
       " '']"
      ]
     },
     "execution_count": 58,
     "metadata": {},
     "output_type": "execute_result"
    }
   ],
   "source": [
    "b"
   ]
  },
  {
   "cell_type": "code",
   "execution_count": 59,
   "metadata": {},
   "outputs": [
    {
     "data": {
      "text/plain": [
       "14"
      ]
     },
     "execution_count": 59,
     "metadata": {},
     "output_type": "execute_result"
    }
   ],
   "source": [
    "len(b)"
   ]
  },
  {
   "cell_type": "code",
   "execution_count": 19,
   "metadata": {},
   "outputs": [],
   "source": [
    "import pymysql\n",
    "\n",
    "\n",
    "def insertDB(dataDic):\n",
    "\n",
    "    if '이름' in dataDic.keys():\n",
    "        R_name = dataDic['이름']\n",
    "    else:\n",
    "        R_name = None\n",
    "\n",
    "    if '주소' in dataDic.keys():\n",
    "        addr = dataDic['주소']\n",
    "        x = addr.split(' ')\n",
    "        R_gu = x[1]\n",
    "        R_dong = x[2]\n",
    "    else:\n",
    "        addr = None\n",
    "        R_gu = None\n",
    "        R_dong = None\n",
    "\n",
    "    if '전화번호' in dataDic.keys():\n",
    "        tel = dataDic['전화번호']\n",
    "    else:\n",
    "        tel = None\n",
    "\n",
    "    if '음식종류' in dataDic.keys():\n",
    "        kind = dataDic['음식종류']\n",
    "    else:\n",
    "        kind = None\n",
    "\n",
    "    if '평점' in dataDic.keys():\n",
    "        rating = dataDic['평점']\n",
    "    else:\n",
    "        rating = None\n",
    "\n",
    "    if '영업시간' in dataDic.keys():\n",
    "        open_time = dataDic['영업시간']\n",
    "    else:\n",
    "        open_time = None\n",
    "\n",
    "    if '휴일' in dataDic.keys():\n",
    "        holiday = dataDic['휴일']\n",
    "    else:\n",
    "        holiday = None\n",
    "\n",
    "    if '리뷰' in dataDic.keys():\n",
    "        review = dataDic['리뷰']\n",
    "    else:\n",
    "        review = None\n",
    "\n",
    "    try:\n",
    "        conn = pymysql.connect(host='127.0.0.1', user='root',\n",
    "                               password='', port=3306, db='mango_plate', charset='utf8')\n",
    "        with conn.cursor() as cursor:\n",
    "            sql = 'INSERT INTO seoul_review (R_name, R_gu, R_dong, addr, tel, kind, rating, open_time, holiday, review) VALUES (%s, %s, %s, %s, %s, %s, %s, %s,%s, %s)'\n",
    "            cursor.execute(sql, (R_name, R_gu, R_dong, addr, tel,\n",
    "                                 kind, rating, open_time, holiday, review))\n",
    "            conn.commit()\n",
    "    finally:\n",
    "        conn.close()"
   ]
  },
  {
   "cell_type": "code",
   "execution_count": 20,
   "metadata": {},
   "outputs": [
    {
     "name": "stdout",
     "output_type": "stream",
     "text": [
      "{'이름': '파크더블유', '평점': None, '주소': '서울시 중랑구 망우동 43-8', '전화번호': '02-432-5659', '음식종류': '카페 / 디저트', '가격대': '만원 미만', '주차': '주차공간없음 ', '영업시간': '11:00 - 22:00', '메뉴': '\\n\\n\\n아메리카노\\n4,500원\\n\\n\\n', '리뷰': '카페랑 식당을 겸하는 곳. 고즈넉하고 손님도 지나치게 많지 않아서 데이트하면서 대화하기 좋은 곳. 커피맛은 나쁘지않았고 가격도 평이하지만 식사 하기엔 다소 비싸다'}\n",
      "{'이름': '파크더블유', '평점': None, '주소': '서울시 중랑구 망우동 43-8', '전화번호': '02-432-5659', '음식종류': '카페 / 디저트', '가격대': '만원 미만', '주차': '주차공간없음 ', '영업시간': '11:00 - 22:00', '메뉴': '\\n\\n\\n아메리카노\\n4,500원\\n\\n\\n', '리뷰': '이 동네에 이런 스타일의 음식점이. 음식은 맛이 나쁘지 않았어요. 맛으로는 평타 이상. 그러나 서비스가 완전 헬. 일하는 사람이 둘밖에 없는데 사람은 많고.. 주문도 오래걸리고 뭐하나 일일히 해달라고 말할수도 없어서 나중엔 손님들이 가질러 다니고 알아서 치우고 막 그래야했네요. 파스타 속 조개는 아예 익지도 않은채로 나왔고.. 가격은 비싸고.. 주차장도 없고 알아서 길에 주차해야하고.. 그럼에도 불구하고 분위기가 좋아서, 맛이 나쁘지 않아서 한번쯤은 다시 가보려고 합니다.'}\n",
      "{'이름': '파크더블유', '평점': None, '주소': '서울시 중랑구 망우동 43-8', '전화번호': '02-432-5659', '음식종류': '카페 / 디저트', '가격대': '만원 미만', '주차': '주차공간없음 ', '영업시간': '11:00 - 22:00', '메뉴': '\\n\\n\\n아메리카노\\n4,500원\\n\\n\\n', '리뷰': '맛도 괜찮고 분위기도 좋은 숨어있는 카페인데 가격은 결코 착하지 않아요 맛은 있는데 정말로 가격이 사악'}\n",
      "{'이름': '파크더블유', '평점': None, '주소': '서울시 중랑구 망우동 43-8', '전화번호': '02-432-5659', '음식종류': '카페 / 디저트', '가격대': '만원 미만', '주차': '주차공간없음 ', '영업시간': '11:00 - 22:00', '메뉴': '\\n\\n\\n아메리카노\\n4,500원\\n\\n\\n', '리뷰': '건물이나 인테리어 부터 눈에들어오는 곳으로~ 한적한 위치에 있어서 연인들 데이트로 오기에 좋고 주변이 조용해서 좋다~ 파스타. 피자. 스테이크 등 요리도 가능하고~ 무엇보다 커피와 명품Tea인 로네펠트, TWG, 마리아쥬프레르가 있고~ 디저트류도 다양하다~^^'}\n",
      "{'이름': '파크더블유', '평점': None, '주소': '서울시 중랑구 망우동 43-8', '전화번호': '02-432-5659', '음식종류': '카페 / 디저트', '가격대': '만원 미만', '주차': '주차공간없음 ', '영업시간': '11:00 - 22:00', '메뉴': '\\n\\n\\n아메리카노\\n4,500원\\n\\n\\n', '리뷰': '⭐️⭐️⭐️⭐️'}\n"
     ]
    }
   ],
   "source": [
    "for j in b:\n",
    "    info['리뷰'] = j\n",
    "    print(info)\n",
    "    insertDB(info)"
   ]
  },
  {
   "cell_type": "code",
   "execution_count": 21,
   "metadata": {},
   "outputs": [],
   "source": [
    "driver.quit()"
   ]
  }
 ],
 "metadata": {
  "kernelspec": {
   "display_name": "Python 3",
   "language": "python",
   "name": "python3"
  },
  "language_info": {
   "codemirror_mode": {
    "name": "ipython",
    "version": 3
   },
   "file_extension": ".py",
   "mimetype": "text/x-python",
   "name": "python",
   "nbconvert_exporter": "python",
   "pygments_lexer": "ipython3",
   "version": "3.6.0"
  },
  "varInspector": {
   "cols": {
    "lenName": 16,
    "lenType": 16,
    "lenVar": 40
   },
   "kernels_config": {
    "python": {
     "delete_cmd_postfix": "",
     "delete_cmd_prefix": "del ",
     "library": "var_list.py",
     "varRefreshCmd": "print(var_dic_list())"
    },
    "r": {
     "delete_cmd_postfix": ") ",
     "delete_cmd_prefix": "rm(",
     "library": "var_list.r",
     "varRefreshCmd": "cat(var_dic_list()) "
    }
   },
   "types_to_exclude": [
    "module",
    "function",
    "builtin_function_or_method",
    "instance",
    "_Feature"
   ],
   "window_display": false
  }
 },
 "nbformat": 4,
 "nbformat_minor": 2
}
