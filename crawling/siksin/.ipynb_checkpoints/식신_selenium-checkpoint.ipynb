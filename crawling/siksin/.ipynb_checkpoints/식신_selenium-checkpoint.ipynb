{
 "cells": [
  {
   "cell_type": "markdown",
   "metadata": {},
   "source": [
    "식신 크롤링 코드"
   ]
  },
  {
   "cell_type": "code",
   "execution_count": 5,
   "metadata": {},
   "outputs": [],
   "source": [
    "from selenium import webdriver\n",
    "from selenium.webdriver.chrome.options import Options\n",
    "import time\n",
    "from selenium.common.exceptions import *\n",
    "from selenium.webdriver.common.keys import Keys\n",
    "from selenium import webdriver\n",
    "from bs4 import BeautifulSoup\n",
    "import pandas as pd\n",
    "\n",
    "\n",
    "options = webdriver.ChromeOptions()\n",
    "options.add_argument('headless')\n",
    "options.add_argument('--no-sandbox')\n",
    "options.add_argument('--disable-dev-shm-usage')\n",
    "options.add_argument('window-size=1920x1080')\n",
    "\n",
    "driver = webdriver.Chrome(chrome_options=options)\n",
    "driver.implicitly_wait(3)\n",
    "driver.get('https://www.siksinhot.com/taste?upHpAreaId=9&hpAreaId=1181&isBestOrd=N')"
   ]
  },
  {
   "cell_type": "code",
   "execution_count": 10,
   "metadata": {},
   "outputs": [],
   "source": [
    "driver.find_element_by_css_selector('div.select').click()"
   ]
  },
  {
   "cell_type": "code",
   "execution_count": null,
   "metadata": {},
   "outputs": [],
   "source": [
    "soup = BeautifulSoup(html_doc, 'html.parser')"
   ]
  },
  {
   "cell_type": "code",
   "execution_count": 27,
   "metadata": {
    "scrolled": true
   },
   "outputs": [],
   "source": [
    "links = driver.find_elements_by_css_selector('div.area_detail_list > ul > li > a')[1:]"
   ]
  },
  {
   "cell_type": "code",
   "execution_count": 30,
   "metadata": {},
   "outputs": [],
   "source": [
    "link_list = []\n",
    "for link in links:\n",
    "    link_list.append(link.get_attribute(\"href\"))"
   ]
  },
  {
   "cell_type": "code",
   "execution_count": 31,
   "metadata": {},
   "outputs": [
    {
     "data": {
      "text/plain": [
       "['https://www.siksinhot.com/taste?upHpAreaId=9&hpAreaId=33&isBestOrd=N',\n",
       " 'https://www.siksinhot.com/taste?upHpAreaId=9&hpAreaId=34&isBestOrd=N',\n",
       " 'https://www.siksinhot.com/taste?upHpAreaId=9&hpAreaId=46&isBestOrd=N',\n",
       " 'https://www.siksinhot.com/taste?upHpAreaId=9&hpAreaId=35&isBestOrd=N',\n",
       " 'https://www.siksinhot.com/taste?upHpAreaId=9&hpAreaId=36&isBestOrd=N',\n",
       " 'https://www.siksinhot.com/taste?upHpAreaId=9&hpAreaId=1181&isBestOrd=N',\n",
       " 'https://www.siksinhot.com/taste?upHpAreaId=9&hpAreaId=398&isBestOrd=N',\n",
       " 'https://www.siksinhot.com/taste?upHpAreaId=9&hpAreaId=397&isBestOrd=N',\n",
       " 'https://www.siksinhot.com/taste?upHpAreaId=9&hpAreaId=1176&isBestOrd=N',\n",
       " 'https://www.siksinhot.com/taste?upHpAreaId=9&hpAreaId=1186&isBestOrd=N',\n",
       " 'https://www.siksinhot.com/taste?upHpAreaId=9&hpAreaId=39&isBestOrd=N',\n",
       " 'https://www.siksinhot.com/taste?upHpAreaId=9&hpAreaId=40&isBestOrd=N',\n",
       " 'https://www.siksinhot.com/taste?upHpAreaId=9&hpAreaId=1145&isBestOrd=N',\n",
       " 'https://www.siksinhot.com/taste?upHpAreaId=9&hpAreaId=43&isBestOrd=N',\n",
       " 'https://www.siksinhot.com/taste?upHpAreaId=9&hpAreaId=399&isBestOrd=N',\n",
       " 'https://www.siksinhot.com/taste?upHpAreaId=9&hpAreaId=55&isBestOrd=N',\n",
       " 'https://www.siksinhot.com/taste?upHpAreaId=9&hpAreaId=627&isBestOrd=N',\n",
       " 'https://www.siksinhot.com/taste?upHpAreaId=9&hpAreaId=54&isBestOrd=N',\n",
       " 'https://www.siksinhot.com/taste?upHpAreaId=9&hpAreaId=50&isBestOrd=N',\n",
       " 'https://www.siksinhot.com/taste?upHpAreaId=9&hpAreaId=1091&isBestOrd=N',\n",
       " 'https://www.siksinhot.com/taste?upHpAreaId=9&hpAreaId=51&isBestOrd=N',\n",
       " 'https://www.siksinhot.com/taste?upHpAreaId=9&hpAreaId=396&isBestOrd=N',\n",
       " 'https://www.siksinhot.com/taste?upHpAreaId=9&hpAreaId=1093&isBestOrd=N',\n",
       " 'https://www.siksinhot.com/taste?upHpAreaId=9&hpAreaId=1117&isBestOrd=N',\n",
       " 'https://www.siksinhot.com/taste?upHpAreaId=9&hpAreaId=1118&isBestOrd=N',\n",
       " 'https://www.siksinhot.com/taste?upHpAreaId=9&hpAreaId=48&isBestOrd=N',\n",
       " 'https://www.siksinhot.com/taste?upHpAreaId=9&hpAreaId=1108&isBestOrd=N',\n",
       " 'https://www.siksinhot.com/taste?upHpAreaId=9&hpAreaId=1109&isBestOrd=N',\n",
       " 'https://www.siksinhot.com/taste?upHpAreaId=9&hpAreaId=400&isBestOrd=N',\n",
       " 'https://www.siksinhot.com/taste?upHpAreaId=9&hpAreaId=495&isBestOrd=N',\n",
       " 'https://www.siksinhot.com/taste?upHpAreaId=9&hpAreaId=32&isBestOrd=N',\n",
       " 'https://www.siksinhot.com/taste?upHpAreaId=9&hpAreaId=494&isBestOrd=N',\n",
       " 'https://www.siksinhot.com/taste?upHpAreaId=9&hpAreaId=1133&isBestOrd=N',\n",
       " 'https://www.siksinhot.com/taste?upHpAreaId=9&hpAreaId=1134&isBestOrd=N',\n",
       " 'https://www.siksinhot.com/taste?upHpAreaId=9&hpAreaId=625&isBestOrd=N',\n",
       " 'https://www.siksinhot.com/taste?upHpAreaId=9&hpAreaId=59&isBestOrd=N',\n",
       " 'https://www.siksinhot.com/taste?upHpAreaId=9&hpAreaId=1171&isBestOrd=N',\n",
       " 'https://www.siksinhot.com/taste?upHpAreaId=9&hpAreaId=60&isBestOrd=N',\n",
       " 'https://www.siksinhot.com/taste?upHpAreaId=9&hpAreaId=1092&isBestOrd=N',\n",
       " 'https://www.siksinhot.com/taste?upHpAreaId=9&hpAreaId=1122&isBestOrd=N',\n",
       " 'https://www.siksinhot.com/taste?upHpAreaId=9&hpAreaId=1130&isBestOrd=N',\n",
       " 'https://www.siksinhot.com/taste?upHpAreaId=9&hpAreaId=1172&isBestOrd=N',\n",
       " 'https://www.siksinhot.com/taste?upHpAreaId=9&hpAreaId=1173&isBestOrd=N',\n",
       " 'https://www.siksinhot.com/taste?upHpAreaId=9&hpAreaId=62&isBestOrd=N',\n",
       " 'https://www.siksinhot.com/taste?upHpAreaId=9&hpAreaId=626&isBestOrd=N',\n",
       " 'https://www.siksinhot.com/taste?upHpAreaId=9&hpAreaId=402&isBestOrd=N',\n",
       " 'https://www.siksinhot.com/taste?upHpAreaId=9&hpAreaId=56&isBestOrd=N',\n",
       " 'https://www.siksinhot.com/taste?upHpAreaId=9&hpAreaId=909&isBestOrd=N',\n",
       " 'https://www.siksinhot.com/taste?upHpAreaId=9&hpAreaId=628&isBestOrd=N',\n",
       " 'https://www.siksinhot.com/taste?upHpAreaId=9&hpAreaId=64&isBestOrd=N',\n",
       " 'https://www.siksinhot.com/taste?upHpAreaId=9&hpAreaId=1174&isBestOrd=N',\n",
       " 'https://www.siksinhot.com/taste?upHpAreaId=9&hpAreaId=1175&isBestOrd=N',\n",
       " 'https://www.siksinhot.com/taste?upHpAreaId=9&hpAreaId=65&isBestOrd=N']"
      ]
     },
     "execution_count": 31,
     "metadata": {},
     "output_type": "execute_result"
    }
   ],
   "source": [
    "link_list"
   ]
  },
  {
   "cell_type": "code",
   "execution_count": null,
   "metadata": {},
   "outputs": [],
   "source": [
    "ls = []\n",
    "\n",
    "def crawling(page):\n",
    "    driver = webdriver.Chrome(chrome_options=options)\n",
    "    driver.implicitly_wait(3)\n",
    "    driver.get(page)\n",
    "    num = driver.find_element_by_css_selector('div.category_menu > ul > li:last-child > a > span').text\n",
    "    num = int(num[1:-1])\n",
    "    for i in range(num-30):\n",
    "        try:\n",
    "            ls.append(driver.find_elements_by_css_selector('div.score_story > p')[i].text)\n",
    "        except:\n",
    "            time.sleep(2)\n",
    "            driver.find_element_by_css_selector('div.review_list > a.btn_sMore').click()\n",
    "            try:\n",
    "                time.sleep(1)\n",
    "                ls.append(driver.find_elements_by_css_selector('div.score_story > p')[i].text)\n",
    "            except:\n",
    "                pass\n",
    "    driver.quit()\n",
    "\n",
    "for i in link_list:\n",
    "    crawling(i)\n",
    "\n",
    "\n",
    "\n",
    "gangnam_review = pd.DataFrame(ls)\n",
    "gangnam_review.columns = ['reviews']\n",
    "\n",
    "gangnam_review.to_excel('gangnam_reviews.xlsx', sheet_name='sheet1')"
   ]
  }
 ],
 "metadata": {
  "kernelspec": {
   "display_name": "Python 3",
   "language": "python",
   "name": "python3"
  },
  "language_info": {
   "codemirror_mode": {
    "name": "ipython",
    "version": 3
   },
   "file_extension": ".py",
   "mimetype": "text/x-python",
   "name": "python",
   "nbconvert_exporter": "python",
   "pygments_lexer": "ipython3",
   "version": "3.6.0"
  },
  "varInspector": {
   "cols": {
    "lenName": 16,
    "lenType": 16,
    "lenVar": 40
   },
   "kernels_config": {
    "python": {
     "delete_cmd_postfix": "",
     "delete_cmd_prefix": "del ",
     "library": "var_list.py",
     "varRefreshCmd": "print(var_dic_list())"
    },
    "r": {
     "delete_cmd_postfix": ") ",
     "delete_cmd_prefix": "rm(",
     "library": "var_list.r",
     "varRefreshCmd": "cat(var_dic_list()) "
    }
   },
   "types_to_exclude": [
    "module",
    "function",
    "builtin_function_or_method",
    "instance",
    "_Feature"
   ],
   "window_display": false
  }
 },
 "nbformat": 4,
 "nbformat_minor": 2
}
